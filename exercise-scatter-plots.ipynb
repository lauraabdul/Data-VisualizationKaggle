{
 "cells": [
  {
   "cell_type": "markdown",
   "id": "82142cf4",
   "metadata": {
    "papermill": {
     "duration": 0.010736,
     "end_time": "2022-06-28T12:23:47.089899",
     "exception": false,
     "start_time": "2022-06-28T12:23:47.079163",
     "status": "completed"
    },
    "tags": []
   },
   "source": [
    "**This notebook is an exercise in the [Data Visualization](https://www.kaggle.com/learn/data-visualization) course.  You can reference the tutorial at [this link](https://www.kaggle.com/alexisbcook/scatter-plots).**\n",
    "\n",
    "---\n"
   ]
  },
  {
   "cell_type": "markdown",
   "id": "8a2d6863",
   "metadata": {
    "papermill": {
     "duration": 0.009301,
     "end_time": "2022-06-28T12:23:47.108648",
     "exception": false,
     "start_time": "2022-06-28T12:23:47.099347",
     "status": "completed"
    },
    "tags": []
   },
   "source": [
    "In this exercise, you will use your new knowledge to propose a solution to a real-world scenario.  To succeed, you will need to import data into Python, answer questions using the data, and generate **scatter plots** to understand patterns in the data.\n",
    "\n",
    "## Scenario\n",
    "\n",
    "You work for a major candy producer, and your goal is to write a report that your company can use to guide the design of its next product.  Soon after starting your research, you stumble across this [very interesting dataset](https://fivethirtyeight.com/features/the-ultimate-halloween-candy-power-ranking/) containing results from a fun survey to crowdsource favorite candies.\n",
    "\n",
    "## Setup\n",
    "\n",
    "Run the next cell to import and configure the Python libraries that you need to complete the exercise."
   ]
  },
  {
   "cell_type": "code",
   "execution_count": 1,
   "id": "74806843",
   "metadata": {
    "execution": {
     "iopub.execute_input": "2022-06-28T12:23:47.130078Z",
     "iopub.status.busy": "2022-06-28T12:23:47.129217Z",
     "iopub.status.idle": "2022-06-28T12:23:48.379568Z",
     "shell.execute_reply": "2022-06-28T12:23:48.378254Z"
    },
    "papermill": {
     "duration": 1.264005,
     "end_time": "2022-06-28T12:23:48.382060",
     "exception": false,
     "start_time": "2022-06-28T12:23:47.118055",
     "status": "completed"
    },
    "tags": []
   },
   "outputs": [
    {
     "name": "stdout",
     "output_type": "stream",
     "text": [
      "Setup Complete\n"
     ]
    }
   ],
   "source": [
    "import pandas as pd\n",
    "pd.plotting.register_matplotlib_converters()\n",
    "import matplotlib.pyplot as plt\n",
    "%matplotlib inline\n",
    "import seaborn as sns\n",
    "print(\"Setup Complete\")"
   ]
  },
  {
   "cell_type": "markdown",
   "id": "7dd25306",
   "metadata": {
    "papermill": {
     "duration": 0.009109,
     "end_time": "2022-06-28T12:23:48.400595",
     "exception": false,
     "start_time": "2022-06-28T12:23:48.391486",
     "status": "completed"
    },
    "tags": []
   },
   "source": [
    "The questions below will give you feedback on your work. Run the following cell to set up our feedback system."
   ]
  },
  {
   "cell_type": "code",
   "execution_count": 2,
   "id": "a4cf43f4",
   "metadata": {
    "execution": {
     "iopub.execute_input": "2022-06-28T12:23:48.421088Z",
     "iopub.status.busy": "2022-06-28T12:23:48.420613Z",
     "iopub.status.idle": "2022-06-28T12:23:48.491326Z",
     "shell.execute_reply": "2022-06-28T12:23:48.489932Z"
    },
    "papermill": {
     "duration": 0.083838,
     "end_time": "2022-06-28T12:23:48.493820",
     "exception": false,
     "start_time": "2022-06-28T12:23:48.409982",
     "status": "completed"
    },
    "tags": []
   },
   "outputs": [
    {
     "name": "stdout",
     "output_type": "stream",
     "text": [
      "Setup Complete\n"
     ]
    }
   ],
   "source": [
    "# Set up code checking\n",
    "import os\n",
    "if not os.path.exists(\"../input/candy.csv\"):\n",
    "    os.symlink(\"../input/data-for-datavis/candy.csv\", \"../input/candy.csv\") \n",
    "from learntools.core import binder\n",
    "binder.bind(globals())\n",
    "from learntools.data_viz_to_coder.ex4 import *\n",
    "print(\"Setup Complete\")"
   ]
  },
  {
   "cell_type": "markdown",
   "id": "5276b4f5",
   "metadata": {
    "papermill": {
     "duration": 0.009227,
     "end_time": "2022-06-28T12:23:48.512793",
     "exception": false,
     "start_time": "2022-06-28T12:23:48.503566",
     "status": "completed"
    },
    "tags": []
   },
   "source": [
    "## Step 1: Load the Data\n",
    "\n",
    "Read the candy data file into `candy_data`.  Use the `\"id\"` column to label the rows."
   ]
  },
  {
   "cell_type": "code",
   "execution_count": 3,
   "id": "8e3a4790",
   "metadata": {
    "execution": {
     "iopub.execute_input": "2022-06-28T12:23:48.533523Z",
     "iopub.status.busy": "2022-06-28T12:23:48.533137Z",
     "iopub.status.idle": "2022-06-28T12:23:48.548131Z",
     "shell.execute_reply": "2022-06-28T12:23:48.546871Z"
    },
    "papermill": {
     "duration": 0.028022,
     "end_time": "2022-06-28T12:23:48.550314",
     "exception": false,
     "start_time": "2022-06-28T12:23:48.522292",
     "status": "completed"
    },
    "tags": []
   },
   "outputs": [
    {
     "data": {
      "application/javascript": [
       "parent.postMessage({\"jupyterEvent\": \"custom.exercise_interaction\", \"data\": {\"outcomeType\": 1, \"valueTowardsCompletion\": 0.3333333333333333, \"interactionType\": 1, \"questionType\": 1, \"questionId\": \"1_LoadData\", \"learnToolsVersion\": \"0.3.4\", \"failureMessage\": \"\", \"exceptionClass\": \"\", \"trace\": \"\"}}, \"*\")"
      ],
      "text/plain": [
       "<IPython.core.display.Javascript object>"
      ]
     },
     "metadata": {},
     "output_type": "display_data"
    },
    {
     "data": {
      "text/markdown": [
       "<span style=\"color:#33cc33\">Correct</span>"
      ],
      "text/plain": [
       "Correct"
      ]
     },
     "metadata": {},
     "output_type": "display_data"
    }
   ],
   "source": [
    "# Path of the file to read\n",
    "candy_filepath = \"../input/candy.csv\"\n",
    "\n",
    "# Fill in the line below to read the file into a variable candy_data\n",
    "candy_data = pd.read_csv(candy_filepath,index_col=\"id\")\n",
    "\n",
    "# Run the line below with no changes to check that you've loaded the data correctly\n",
    "step_1.check()"
   ]
  },
  {
   "cell_type": "code",
   "execution_count": 4,
   "id": "85cd16f5",
   "metadata": {
    "execution": {
     "iopub.execute_input": "2022-06-28T12:23:48.572299Z",
     "iopub.status.busy": "2022-06-28T12:23:48.571904Z",
     "iopub.status.idle": "2022-06-28T12:23:48.576532Z",
     "shell.execute_reply": "2022-06-28T12:23:48.575308Z"
    },
    "papermill": {
     "duration": 0.018704,
     "end_time": "2022-06-28T12:23:48.578877",
     "exception": false,
     "start_time": "2022-06-28T12:23:48.560173",
     "status": "completed"
    },
    "tags": []
   },
   "outputs": [],
   "source": [
    "# Lines below will give you a hint or solution code\n",
    "#step_1.hint()\n",
    "#step_1.solution()"
   ]
  },
  {
   "cell_type": "markdown",
   "id": "ba39f188",
   "metadata": {
    "papermill": {
     "duration": 0.00952,
     "end_time": "2022-06-28T12:23:48.599250",
     "exception": false,
     "start_time": "2022-06-28T12:23:48.589730",
     "status": "completed"
    },
    "tags": []
   },
   "source": [
    "## Step 2: Review the data\n",
    "\n",
    "Use a Python command to print the first five rows of the data."
   ]
  },
  {
   "cell_type": "code",
   "execution_count": 5,
   "id": "3dc37b13",
   "metadata": {
    "execution": {
     "iopub.execute_input": "2022-06-28T12:23:48.620546Z",
     "iopub.status.busy": "2022-06-28T12:23:48.620148Z",
     "iopub.status.idle": "2022-06-28T12:23:48.641839Z",
     "shell.execute_reply": "2022-06-28T12:23:48.640745Z"
    },
    "papermill": {
     "duration": 0.035135,
     "end_time": "2022-06-28T12:23:48.644160",
     "exception": false,
     "start_time": "2022-06-28T12:23:48.609025",
     "status": "completed"
    },
    "tags": []
   },
   "outputs": [
    {
     "data": {
      "text/html": [
       "<div>\n",
       "<style scoped>\n",
       "    .dataframe tbody tr th:only-of-type {\n",
       "        vertical-align: middle;\n",
       "    }\n",
       "\n",
       "    .dataframe tbody tr th {\n",
       "        vertical-align: top;\n",
       "    }\n",
       "\n",
       "    .dataframe thead th {\n",
       "        text-align: right;\n",
       "    }\n",
       "</style>\n",
       "<table border=\"1\" class=\"dataframe\">\n",
       "  <thead>\n",
       "    <tr style=\"text-align: right;\">\n",
       "      <th></th>\n",
       "      <th>competitorname</th>\n",
       "      <th>chocolate</th>\n",
       "      <th>fruity</th>\n",
       "      <th>caramel</th>\n",
       "      <th>peanutyalmondy</th>\n",
       "      <th>nougat</th>\n",
       "      <th>crispedricewafer</th>\n",
       "      <th>hard</th>\n",
       "      <th>bar</th>\n",
       "      <th>pluribus</th>\n",
       "      <th>sugarpercent</th>\n",
       "      <th>pricepercent</th>\n",
       "      <th>winpercent</th>\n",
       "    </tr>\n",
       "    <tr>\n",
       "      <th>id</th>\n",
       "      <th></th>\n",
       "      <th></th>\n",
       "      <th></th>\n",
       "      <th></th>\n",
       "      <th></th>\n",
       "      <th></th>\n",
       "      <th></th>\n",
       "      <th></th>\n",
       "      <th></th>\n",
       "      <th></th>\n",
       "      <th></th>\n",
       "      <th></th>\n",
       "      <th></th>\n",
       "    </tr>\n",
       "  </thead>\n",
       "  <tbody>\n",
       "    <tr>\n",
       "      <th>0</th>\n",
       "      <td>100 Grand</td>\n",
       "      <td>Yes</td>\n",
       "      <td>No</td>\n",
       "      <td>Yes</td>\n",
       "      <td>No</td>\n",
       "      <td>No</td>\n",
       "      <td>Yes</td>\n",
       "      <td>No</td>\n",
       "      <td>Yes</td>\n",
       "      <td>No</td>\n",
       "      <td>0.732</td>\n",
       "      <td>0.860</td>\n",
       "      <td>66.971725</td>\n",
       "    </tr>\n",
       "    <tr>\n",
       "      <th>1</th>\n",
       "      <td>3 Musketeers</td>\n",
       "      <td>Yes</td>\n",
       "      <td>No</td>\n",
       "      <td>No</td>\n",
       "      <td>No</td>\n",
       "      <td>Yes</td>\n",
       "      <td>No</td>\n",
       "      <td>No</td>\n",
       "      <td>Yes</td>\n",
       "      <td>No</td>\n",
       "      <td>0.604</td>\n",
       "      <td>0.511</td>\n",
       "      <td>67.602936</td>\n",
       "    </tr>\n",
       "    <tr>\n",
       "      <th>2</th>\n",
       "      <td>Air Heads</td>\n",
       "      <td>No</td>\n",
       "      <td>Yes</td>\n",
       "      <td>No</td>\n",
       "      <td>No</td>\n",
       "      <td>No</td>\n",
       "      <td>No</td>\n",
       "      <td>No</td>\n",
       "      <td>No</td>\n",
       "      <td>No</td>\n",
       "      <td>0.906</td>\n",
       "      <td>0.511</td>\n",
       "      <td>52.341465</td>\n",
       "    </tr>\n",
       "    <tr>\n",
       "      <th>3</th>\n",
       "      <td>Almond Joy</td>\n",
       "      <td>Yes</td>\n",
       "      <td>No</td>\n",
       "      <td>No</td>\n",
       "      <td>Yes</td>\n",
       "      <td>No</td>\n",
       "      <td>No</td>\n",
       "      <td>No</td>\n",
       "      <td>Yes</td>\n",
       "      <td>No</td>\n",
       "      <td>0.465</td>\n",
       "      <td>0.767</td>\n",
       "      <td>50.347546</td>\n",
       "    </tr>\n",
       "    <tr>\n",
       "      <th>4</th>\n",
       "      <td>Baby Ruth</td>\n",
       "      <td>Yes</td>\n",
       "      <td>No</td>\n",
       "      <td>Yes</td>\n",
       "      <td>Yes</td>\n",
       "      <td>Yes</td>\n",
       "      <td>No</td>\n",
       "      <td>No</td>\n",
       "      <td>Yes</td>\n",
       "      <td>No</td>\n",
       "      <td>0.604</td>\n",
       "      <td>0.767</td>\n",
       "      <td>56.914547</td>\n",
       "    </tr>\n",
       "  </tbody>\n",
       "</table>\n",
       "</div>"
      ],
      "text/plain": [
       "   competitorname chocolate fruity caramel peanutyalmondy nougat  \\\n",
       "id                                                                 \n",
       "0       100 Grand       Yes     No     Yes             No     No   \n",
       "1    3 Musketeers       Yes     No      No             No    Yes   \n",
       "2       Air Heads        No    Yes      No             No     No   \n",
       "3      Almond Joy       Yes     No      No            Yes     No   \n",
       "4       Baby Ruth       Yes     No     Yes            Yes    Yes   \n",
       "\n",
       "   crispedricewafer hard  bar pluribus  sugarpercent  pricepercent  winpercent  \n",
       "id                                                                              \n",
       "0               Yes   No  Yes       No         0.732         0.860   66.971725  \n",
       "1                No   No  Yes       No         0.604         0.511   67.602936  \n",
       "2                No   No   No       No         0.906         0.511   52.341465  \n",
       "3                No   No  Yes       No         0.465         0.767   50.347546  \n",
       "4                No   No  Yes       No         0.604         0.767   56.914547  "
      ]
     },
     "execution_count": 5,
     "metadata": {},
     "output_type": "execute_result"
    }
   ],
   "source": [
    "# Print the first five rows of the data\n",
    "candy_data.head()\n",
    "# Your code here"
   ]
  },
  {
   "cell_type": "markdown",
   "id": "dad98018",
   "metadata": {
    "papermill": {
     "duration": 0.010004,
     "end_time": "2022-06-28T12:23:48.664525",
     "exception": false,
     "start_time": "2022-06-28T12:23:48.654521",
     "status": "completed"
    },
    "tags": []
   },
   "source": [
    "The dataset contains 83 rows, where each corresponds to a different candy bar.  There are 13 columns:\n",
    "- `'competitorname'` contains the name of the candy bar. \n",
    "- the next **9** columns (from `'chocolate'` to `'pluribus'`) describe the candy.  For instance, rows with chocolate candies have `\"Yes\"` in the `'chocolate'` column (and candies without chocolate have `\"No\"` in the same column).\n",
    "- `'sugarpercent'` provides some indication of the amount of sugar, where higher values signify higher sugar content.\n",
    "- `'pricepercent'` shows the price per unit, relative to the other candies in the dataset.\n",
    "- `'winpercent'` is calculated from the survey results; higher values indicate that the candy was more popular with survey respondents.\n",
    "\n",
    "Use the first five rows of the data to answer the questions below."
   ]
  },
  {
   "cell_type": "code",
   "execution_count": 6,
   "id": "cbf0a326",
   "metadata": {
    "execution": {
     "iopub.execute_input": "2022-06-28T12:23:48.686590Z",
     "iopub.status.busy": "2022-06-28T12:23:48.686189Z",
     "iopub.status.idle": "2022-06-28T12:23:48.694568Z",
     "shell.execute_reply": "2022-06-28T12:23:48.693808Z"
    },
    "papermill": {
     "duration": 0.021837,
     "end_time": "2022-06-28T12:23:48.696534",
     "exception": false,
     "start_time": "2022-06-28T12:23:48.674697",
     "status": "completed"
    },
    "tags": []
   },
   "outputs": [
    {
     "data": {
      "application/javascript": [
       "parent.postMessage({\"jupyterEvent\": \"custom.exercise_interaction\", \"data\": {\"outcomeType\": 1, \"valueTowardsCompletion\": 0.3333333333333333, \"interactionType\": 1, \"questionType\": 1, \"questionId\": \"2_ReviewData\", \"learnToolsVersion\": \"0.3.4\", \"failureMessage\": \"\", \"exceptionClass\": \"\", \"trace\": \"\"}}, \"*\")"
      ],
      "text/plain": [
       "<IPython.core.display.Javascript object>"
      ]
     },
     "metadata": {},
     "output_type": "display_data"
    },
    {
     "data": {
      "text/markdown": [
       "<span style=\"color:#33cc33\">Correct</span>"
      ],
      "text/plain": [
       "Correct"
      ]
     },
     "metadata": {},
     "output_type": "display_data"
    }
   ],
   "source": [
    "# Fill in the line below: Which candy was more popular with survey respondents:\n",
    "# '3 Musketeers' or 'Almond Joy'?  (Please enclose your answer in single quotes.)\n",
    "more_popular = '3 Musketeers'\n",
    "\n",
    "# Fill in the line below: Which candy has higher sugar content: 'Air Heads'\n",
    "# or 'Baby Ruth'? (Please enclose your answer in single quotes.)\n",
    "more_sugar = 'Air Heads'\n",
    "\n",
    "# Check your answers\n",
    "step_2.check()"
   ]
  },
  {
   "cell_type": "code",
   "execution_count": 7,
   "id": "4f599fe0",
   "metadata": {
    "execution": {
     "iopub.execute_input": "2022-06-28T12:23:48.719374Z",
     "iopub.status.busy": "2022-06-28T12:23:48.719014Z",
     "iopub.status.idle": "2022-06-28T12:23:48.722694Z",
     "shell.execute_reply": "2022-06-28T12:23:48.721894Z"
    },
    "papermill": {
     "duration": 0.017626,
     "end_time": "2022-06-28T12:23:48.724799",
     "exception": false,
     "start_time": "2022-06-28T12:23:48.707173",
     "status": "completed"
    },
    "tags": []
   },
   "outputs": [],
   "source": [
    "# Lines below will give you a hint or solution code\n",
    "#step_2.hint()\n",
    "#step_2.solution()"
   ]
  },
  {
   "cell_type": "markdown",
   "id": "b9dd8b90",
   "metadata": {
    "papermill": {
     "duration": 0.010196,
     "end_time": "2022-06-28T12:23:48.746112",
     "exception": false,
     "start_time": "2022-06-28T12:23:48.735916",
     "status": "completed"
    },
    "tags": []
   },
   "source": [
    "## Step 3: The role of sugar\n",
    "\n",
    "Do people tend to prefer candies with higher sugar content?  \n",
    "\n",
    "#### Part A\n",
    "\n",
    "Create a scatter plot that shows the relationship between `'sugarpercent'` (on the horizontal x-axis) and `'winpercent'` (on the vertical y-axis).  _Don't add a regression line just yet -- you'll do that in the next step!_"
   ]
  },
  {
   "cell_type": "code",
   "execution_count": 8,
   "id": "fca46964",
   "metadata": {
    "execution": {
     "iopub.execute_input": "2022-06-28T12:23:48.768997Z",
     "iopub.status.busy": "2022-06-28T12:23:48.768536Z",
     "iopub.status.idle": "2022-06-28T12:23:49.018416Z",
     "shell.execute_reply": "2022-06-28T12:23:49.017076Z"
    },
    "papermill": {
     "duration": 0.264485,
     "end_time": "2022-06-28T12:23:49.021201",
     "exception": false,
     "start_time": "2022-06-28T12:23:48.756716",
     "status": "completed"
    },
    "tags": []
   },
   "outputs": [
    {
     "data": {
      "application/javascript": [
       "parent.postMessage({\"jupyterEvent\": \"custom.exercise_interaction\", \"data\": {\"outcomeType\": 1, \"valueTowardsCompletion\": 0.3333333333333333, \"interactionType\": 1, \"questionType\": 2, \"questionId\": \"3.1_PlotBlueScatter\", \"learnToolsVersion\": \"0.3.4\", \"failureMessage\": \"\", \"exceptionClass\": \"\", \"trace\": \"\"}}, \"*\")"
      ],
      "text/plain": [
       "<IPython.core.display.Javascript object>"
      ]
     },
     "metadata": {},
     "output_type": "display_data"
    },
    {
     "data": {
      "text/markdown": [
       "<span style=\"color:#33cc33\">Correct</span>"
      ],
      "text/plain": [
       "Correct"
      ]
     },
     "metadata": {},
     "output_type": "display_data"
    },
    {
     "data": {
      "image/png": "[encoded data removed]",
      "text/plain": [
       "<Figure size 432x288 with 1 Axes>"
      ]
     },
     "metadata": {
      "needs_background": "light"
     },
     "output_type": "display_data"
    }
   ],
   "source": [
    "# Scatter plot showing the relationship between 'sugarpercent' and 'winpercent'\n",
    "sns.scatterplot(x=candy_data['sugarpercent'],y=candy_data['winpercent']) # Your code here\n",
    "\n",
    "# Check your answer\n",
    "step_3.a.check()"
   ]
  },
  {
   "cell_type": "code",
   "execution_count": 9,
   "id": "2ff129fc",
   "metadata": {
    "execution": {
     "iopub.execute_input": "2022-06-28T12:23:49.047311Z",
     "iopub.status.busy": "2022-06-28T12:23:49.046910Z",
     "iopub.status.idle": "2022-06-28T12:23:49.258004Z",
     "shell.execute_reply": "2022-06-28T12:23:49.256789Z"
    },
    "papermill": {
     "duration": 0.227301,
     "end_time": "2022-06-28T12:23:49.260702",
     "exception": false,
     "start_time": "2022-06-28T12:23:49.033401",
     "status": "completed"
    },
    "tags": []
   },
   "outputs": [
    {
     "data": {
      "application/javascript": [
       "parent.postMessage({\"jupyterEvent\": \"custom.exercise_interaction\", \"data\": {\"interactionType\": 3, \"questionType\": 2, \"questionId\": \"3.1_PlotBlueScatter\", \"learnToolsVersion\": \"0.3.4\", \"valueTowardsCompletion\": 0.0, \"failureMessage\": \"\", \"exceptionClass\": \"\", \"trace\": \"\", \"outcomeType\": 4}}, \"*\")"
      ],
      "text/plain": [
       "<IPython.core.display.Javascript object>"
      ]
     },
     "metadata": {},
     "output_type": "display_data"
    },
    {
     "data": {
      "text/markdown": [
       "<span style=\"color:#33cc99\">Solution:</span> \n",
       "```python\n",
       "# Scatter plot showing the relationship between 'sugarpercent' and 'winpercent'\n",
       "sns.scatterplot(x=candy_data['sugarpercent'], y=candy_data['winpercent'])\n",
       "\n",
       "```"
      ],
      "text/plain": [
       "Solution: \n",
       "```python\n",
       "# Scatter plot showing the relationship between 'sugarpercent' and 'winpercent'\n",
       "sns.scatterplot(x=candy_data['sugarpercent'], y=candy_data['winpercent'])\n",
       "\n",
       "```"
      ]
     },
     "metadata": {},
     "output_type": "display_data"
    },
    {
     "data": {
      "image/png": "[encoded data removed]",
      "text/plain": [
       "<Figure size 432x288 with 1 Axes>"
      ]
     },
     "metadata": {
      "needs_background": "light"
     },
     "output_type": "display_data"
    }
   ],
   "source": [
    "# Lines below will give you a hint or solution code\n",
    "#step_3.a.hint()\n",
    "step_3.a.solution_plot()"
   ]
  },
  {
   "cell_type": "markdown",
   "id": "5207fa1a",
   "metadata": {
    "papermill": {
     "duration": 0.012049,
     "end_time": "2022-06-28T12:23:49.284448",
     "exception": false,
     "start_time": "2022-06-28T12:23:49.272399",
     "status": "completed"
    },
    "tags": []
   },
   "source": [
    "#### Part B\n",
    "\n",
    "Does the scatter plot show a **strong** correlation between the two variables?  If so, are candies with more sugar relatively more or less popular with the survey respondents?"
   ]
  },
  {
   "cell_type": "code",
   "execution_count": 10,
   "id": "fe6847e6",
   "metadata": {
    "execution": {
     "iopub.execute_input": "2022-06-28T12:23:49.310258Z",
     "iopub.status.busy": "2022-06-28T12:23:49.309621Z",
     "iopub.status.idle": "2022-06-28T12:23:49.315149Z",
     "shell.execute_reply": "2022-06-28T12:23:49.314345Z"
    },
    "papermill": {
     "duration": 0.021115,
     "end_time": "2022-06-28T12:23:49.317345",
     "exception": false,
     "start_time": "2022-06-28T12:23:49.296230",
     "status": "completed"
    },
    "tags": []
   },
   "outputs": [],
   "source": [
    "#step_3.b.hint()"
   ]
  },
  {
   "cell_type": "code",
   "execution_count": 11,
   "id": "23f3070a",
   "metadata": {
    "execution": {
     "iopub.execute_input": "2022-06-28T12:23:49.342796Z",
     "iopub.status.busy": "2022-06-28T12:23:49.342355Z",
     "iopub.status.idle": "2022-06-28T12:23:49.351168Z",
     "shell.execute_reply": "2022-06-28T12:23:49.349936Z"
    },
    "papermill": {
     "duration": 0.024427,
     "end_time": "2022-06-28T12:23:49.353405",
     "exception": false,
     "start_time": "2022-06-28T12:23:49.328978",
     "status": "completed"
    },
    "tags": []
   },
   "outputs": [
    {
     "data": {
      "application/javascript": [
       "parent.postMessage({\"jupyterEvent\": \"custom.exercise_interaction\", \"data\": {\"interactionType\": 3, \"questionType\": 4, \"questionId\": \"3.2_ThinkBlueScatter\", \"learnToolsVersion\": \"0.3.4\", \"valueTowardsCompletion\": 0.0, \"failureMessage\": \"\", \"exceptionClass\": \"\", \"trace\": \"\", \"outcomeType\": 4}}, \"*\")"
      ],
      "text/plain": [
       "<IPython.core.display.Javascript object>"
      ]
     },
     "metadata": {},
     "output_type": "display_data"
    },
    {
     "data": {
      "text/markdown": [
       "<span style=\"color:#33cc99\">Solution:</span> The scatter plot does not show a strong correlation between the two variables. Since there is no clear relationship between the two variables, this tells us that sugar content does not play a strong role in candy popularity."
      ],
      "text/plain": [
       "Solution: The scatter plot does not show a strong correlation between the two variables. Since there is no clear relationship between the two variables, this tells us that sugar content does not play a strong role in candy popularity."
      ]
     },
     "metadata": {},
     "output_type": "display_data"
    }
   ],
   "source": [
    "# Check your answer (Run this code cell to receive credit!)\n",
    "step_3.b.solution()"
   ]
  },
  {
   "cell_type": "markdown",
   "id": "0e723c4a",
   "metadata": {
    "papermill": {
     "duration": 0.011962,
     "end_time": "2022-06-28T12:23:49.377319",
     "exception": false,
     "start_time": "2022-06-28T12:23:49.365357",
     "status": "completed"
    },
    "tags": []
   },
   "source": [
    "## Step 4: Take a closer look\n",
    "\n",
    "#### Part A\n",
    "\n",
    "Create the same scatter plot you created in **Step 3**, but now with a regression line!"
   ]
  },
  {
   "cell_type": "code",
   "execution_count": 12,
   "id": "c27325da",
   "metadata": {
    "execution": {
     "iopub.execute_input": "2022-06-28T12:23:49.402834Z",
     "iopub.status.busy": "2022-06-28T12:23:49.402014Z",
     "iopub.status.idle": "2022-06-28T12:23:49.709627Z",
     "shell.execute_reply": "2022-06-28T12:23:49.708882Z"
    },
    "papermill": {
     "duration": 0.322766,
     "end_time": "2022-06-28T12:23:49.711865",
     "exception": false,
     "start_time": "2022-06-28T12:23:49.389099",
     "status": "completed"
    },
    "tags": []
   },
   "outputs": [
    {
     "data": {
      "application/javascript": [
       "parent.postMessage({\"jupyterEvent\": \"custom.exercise_interaction\", \"data\": {\"outcomeType\": 1, \"valueTowardsCompletion\": 0.3333333333333333, \"interactionType\": 1, \"questionType\": 2, \"questionId\": \"4.1_PlotBlueReg\", \"learnToolsVersion\": \"0.3.4\", \"failureMessage\": \"\", \"exceptionClass\": \"\", \"trace\": \"\"}}, \"*\")"
      ],
      "text/plain": [
       "<IPython.core.display.Javascript object>"
      ]
     },
     "metadata": {},
     "output_type": "display_data"
    },
    {
     "data": {
      "text/markdown": [
       "<span style=\"color:#33cc33\">Correct</span>"
      ],
      "text/plain": [
       "Correct"
      ]
     },
     "metadata": {},
     "output_type": "display_data"
    },
    {
     "data": {
      "image/png": "[encoded data removed]",
      "text/plain": [
       "<Figure size 432x288 with 1 Axes>"
      ]
     },
     "metadata": {
      "needs_background": "light"
     },
     "output_type": "display_data"
    }
   ],
   "source": [
    "# Scatter plot w/ regression line showing the relationship between 'sugarpercent' and 'winpercent'\n",
    "sns.regplot(x=candy_data['sugarpercent'],y=candy_data['winpercent']) # Your code here\n",
    "\n",
    "# Check your answer\n",
    "step_4.a.check()"
   ]
  },
  {
   "cell_type": "code",
   "execution_count": 13,
   "id": "1469019e",
   "metadata": {
    "execution": {
     "iopub.execute_input": "2022-06-28T12:23:49.739360Z",
     "iopub.status.busy": "2022-06-28T12:23:49.738768Z",
     "iopub.status.idle": "2022-06-28T12:23:49.742424Z",
     "shell.execute_reply": "2022-06-28T12:23:49.741680Z"
    },
    "papermill": {
     "duration": 0.019926,
     "end_time": "2022-06-28T12:23:49.744562",
     "exception": false,
     "start_time": "2022-06-28T12:23:49.724636",
     "status": "completed"
    },
    "tags": []
   },
   "outputs": [],
   "source": [
    "# Lines below will give you a hint or solution code\n",
    "#step_4.a.hint()\n",
    "#step_4.a.solution_plot()"
   ]
  },
  {
   "cell_type": "markdown",
   "id": "0cc2294b",
   "metadata": {
    "papermill": {
     "duration": 0.012759,
     "end_time": "2022-06-28T12:23:49.769944",
     "exception": false,
     "start_time": "2022-06-28T12:23:49.757185",
     "status": "completed"
    },
    "tags": []
   },
   "source": [
    "#### Part B\n",
    "\n",
    "According to the plot above, is there a **slight** correlation between `'winpercent'` and `'sugarpercent'`?  What does this tell you about the candy that people tend to prefer?"
   ]
  },
  {
   "cell_type": "code",
   "execution_count": 14,
   "id": "65755ec4",
   "metadata": {
    "execution": {
     "iopub.execute_input": "2022-06-28T12:23:49.798140Z",
     "iopub.status.busy": "2022-06-28T12:23:49.797066Z",
     "iopub.status.idle": "2022-06-28T12:23:49.801302Z",
     "shell.execute_reply": "2022-06-28T12:23:49.800500Z"
    },
    "papermill": {
     "duration": 0.019974,
     "end_time": "2022-06-28T12:23:49.803237",
     "exception": false,
     "start_time": "2022-06-28T12:23:49.783263",
     "status": "completed"
    },
    "tags": []
   },
   "outputs": [],
   "source": [
    "#step_4.b.hint()"
   ]
  },
  {
   "cell_type": "code",
   "execution_count": 15,
   "id": "0e466715",
   "metadata": {
    "execution": {
     "iopub.execute_input": "2022-06-28T12:23:49.830546Z",
     "iopub.status.busy": "2022-06-28T12:23:49.829897Z",
     "iopub.status.idle": "2022-06-28T12:23:49.839877Z",
     "shell.execute_reply": "2022-06-28T12:23:49.838965Z"
    },
    "papermill": {
     "duration": 0.02605,
     "end_time": "2022-06-28T12:23:49.841995",
     "exception": false,
     "start_time": "2022-06-28T12:23:49.815945",
     "status": "completed"
    },
    "tags": []
   },
   "outputs": [
    {
     "data": {
      "application/javascript": [
       "parent.postMessage({\"jupyterEvent\": \"custom.exercise_interaction\", \"data\": {\"interactionType\": 3, \"questionType\": 4, \"questionId\": \"4.2_ThinkBlueReg\", \"learnToolsVersion\": \"0.3.4\", \"valueTowardsCompletion\": 0.0, \"failureMessage\": \"\", \"exceptionClass\": \"\", \"trace\": \"\", \"outcomeType\": 4}}, \"*\")"
      ],
      "text/plain": [
       "<IPython.core.display.Javascript object>"
      ]
     },
     "metadata": {},
     "output_type": "display_data"
    },
    {
     "data": {
      "text/markdown": [
       "<span style=\"color:#33cc99\">Solution:</span> Since the regression line has a slightly positive slope, this tells us that there is a slightly positive correlation between `'winpercent'` and `'sugarpercent'`. Thus, people have a slight preference for candies containing relatively more sugar."
      ],
      "text/plain": [
       "Solution: Since the regression line has a slightly positive slope, this tells us that there is a slightly positive correlation between `'winpercent'` and `'sugarpercent'`. Thus, people have a slight preference for candies containing relatively more sugar."
      ]
     },
     "metadata": {},
     "output_type": "display_data"
    }
   ],
   "source": [
    "# Check your answer (Run this code cell to receive credit!)\n",
    "step_4.b.solution()"
   ]
  },
  {
   "cell_type": "markdown",
   "id": "fb42b6c3",
   "metadata": {
    "papermill": {
     "duration": 0.012613,
     "end_time": "2022-06-28T12:23:49.867577",
     "exception": false,
     "start_time": "2022-06-28T12:23:49.854964",
     "status": "completed"
    },
    "tags": []
   },
   "source": [
    "## Step 5: Chocolate!\n",
    "\n",
    "In the code cell below, create a scatter plot to show the relationship between `'pricepercent'` (on the horizontal x-axis) and `'winpercent'` (on the vertical y-axis). Use the `'chocolate'` column to color-code the points.  _Don't add any regression lines just yet -- you'll do that in the next step!_"
   ]
  },
  {
   "cell_type": "code",
   "execution_count": 16,
   "id": "e2a5e2b1",
   "metadata": {
    "execution": {
     "iopub.execute_input": "2022-06-28T12:23:49.896037Z",
     "iopub.status.busy": "2022-06-28T12:23:49.895558Z",
     "iopub.status.idle": "2022-06-28T12:23:50.161726Z",
     "shell.execute_reply": "2022-06-28T12:23:50.160583Z"
    },
    "papermill": {
     "duration": 0.28388,
     "end_time": "2022-06-28T12:23:50.164529",
     "exception": false,
     "start_time": "2022-06-28T12:23:49.880649",
     "status": "completed"
    },
    "tags": []
   },
   "outputs": [
    {
     "data": {
      "application/javascript": [
       "parent.postMessage({\"jupyterEvent\": \"custom.exercise_interaction\", \"data\": {\"outcomeType\": 1, \"valueTowardsCompletion\": 0.3333333333333333, \"interactionType\": 1, \"questionType\": 2, \"questionId\": \"5_ColorScatter\", \"learnToolsVersion\": \"0.3.4\", \"failureMessage\": \"\", \"exceptionClass\": \"\", \"trace\": \"\"}}, \"*\")"
      ],
      "text/plain": [
       "<IPython.core.display.Javascript object>"
      ]
     },
     "metadata": {},
     "output_type": "display_data"
    },
    {
     "data": {
      "text/markdown": [
       "<span style=\"color:#33cc33\">Correct</span>"
      ],
      "text/plain": [
       "Correct"
      ]
     },
     "metadata": {},
     "output_type": "display_data"
    },
    {
     "data": {
      "image/png": "[encoded data removed]",
      "text/plain": [
       "<Figure size 432x288 with 1 Axes>"
      ]
     },
     "metadata": {
      "needs_background": "light"
     },
     "output_type": "display_data"
    }
   ],
   "source": [
    "# Scatter plot showing the relationship between 'pricepercent', 'winpercent', and 'chocolate'\n",
    "sns.scatterplot(x=candy_data['pricepercent'],y=candy_data['winpercent'],hue=candy_data['chocolate'])# Your code here\n",
    "\n",
    "# Check your answer\n",
    "step_5.check()"
   ]
  },
  {
   "cell_type": "code",
   "execution_count": 17,
   "id": "c6202000",
   "metadata": {
    "execution": {
     "iopub.execute_input": "2022-06-28T12:23:50.194515Z",
     "iopub.status.busy": "2022-06-28T12:23:50.194092Z",
     "iopub.status.idle": "2022-06-28T12:23:50.199068Z",
     "shell.execute_reply": "2022-06-28T12:23:50.197782Z"
    },
    "papermill": {
     "duration": 0.023046,
     "end_time": "2022-06-28T12:23:50.201320",
     "exception": false,
     "start_time": "2022-06-28T12:23:50.178274",
     "status": "completed"
    },
    "tags": []
   },
   "outputs": [],
   "source": [
    "# Lines below will give you a hint or solution code\n",
    "#step_5.hint()\n",
    "#step_5.solution_plot()"
   ]
  },
  {
   "cell_type": "markdown",
   "id": "da4589e4",
   "metadata": {
    "papermill": {
     "duration": 0.013174,
     "end_time": "2022-06-28T12:23:50.228041",
     "exception": false,
     "start_time": "2022-06-28T12:23:50.214867",
     "status": "completed"
    },
    "tags": []
   },
   "source": [
    "Can you see any interesting patterns in the scatter plot?  We'll investigate this plot further  by adding regression lines in the next step!\n",
    "\n",
    "## Step 6: Investigate chocolate\n",
    "\n",
    "#### Part A\n",
    "\n",
    "Create the same scatter plot you created in **Step 5**, but now with two regression lines, corresponding to (1) chocolate candies and (2) candies without chocolate."
   ]
  },
  {
   "cell_type": "code",
   "execution_count": 18,
   "id": "b07f7a01",
   "metadata": {
    "execution": {
     "iopub.execute_input": "2022-06-28T12:23:50.256648Z",
     "iopub.status.busy": "2022-06-28T12:23:50.256239Z",
     "iopub.status.idle": "2022-06-28T12:23:50.865119Z",
     "shell.execute_reply": "2022-06-28T12:23:50.864017Z"
    },
    "papermill": {
     "duration": 0.625988,
     "end_time": "2022-06-28T12:23:50.867468",
     "exception": false,
     "start_time": "2022-06-28T12:23:50.241480",
     "status": "completed"
    },
    "tags": []
   },
   "outputs": [
    {
     "data": {
      "application/javascript": [
       "parent.postMessage({\"jupyterEvent\": \"custom.exercise_interaction\", \"data\": {\"outcomeType\": 1, \"valueTowardsCompletion\": 0.3333333333333333, \"interactionType\": 1, \"questionType\": 2, \"questionId\": \"6.1_PlotColorReg\", \"learnToolsVersion\": \"0.3.4\", \"failureMessage\": \"\", \"exceptionClass\": \"\", \"trace\": \"\"}}, \"*\")"
      ],
      "text/plain": [
       "<IPython.core.display.Javascript object>"
      ]
     },
     "metadata": {},
     "output_type": "display_data"
    },
    {
     "data": {
      "text/markdown": [
       "<span style=\"color:#33cc33\">Correct</span>"
      ],
      "text/plain": [
       "Correct"
      ]
     },
     "metadata": {},
     "output_type": "display_data"
    },
    {
     "data": {
      "image/png": "[encoded data removed]",
      "text/plain": [
       "<Figure size 416.375x360 with 1 Axes>"
      ]
     },
     "metadata": {
      "needs_background": "light"
     },
     "output_type": "display_data"
    }
   ],
   "source": [
    "# Color-coded scatter plot w/ regression lines\n",
    "sns.lmplot(x=\"pricepercent\",y=\"winpercent\",hue=\"chocolate\",data=candy_data)# Your code here\n",
    "\n",
    "# Check your answer\n",
    "step_6.a.check()"
   ]
  },
  {
   "cell_type": "code",
   "execution_count": 19,
   "id": "27cf8d1d",
   "metadata": {
    "execution": {
     "iopub.execute_input": "2022-06-28T12:23:50.898607Z",
     "iopub.status.busy": "2022-06-28T12:23:50.897496Z",
     "iopub.status.idle": "2022-06-28T12:23:50.902565Z",
     "shell.execute_reply": "2022-06-28T12:23:50.901745Z"
    },
    "papermill": {
     "duration": 0.023162,
     "end_time": "2022-06-28T12:23:50.904755",
     "exception": false,
     "start_time": "2022-06-28T12:23:50.881593",
     "status": "completed"
    },
    "tags": []
   },
   "outputs": [],
   "source": [
    "# Lines below will give you a hint or solution code\n",
    "#step_6.a.hint()\n",
    "#step_6.a.solution_plot()"
   ]
  },
  {
   "cell_type": "markdown",
   "id": "0f1406bf",
   "metadata": {
    "papermill": {
     "duration": 0.01384,
     "end_time": "2022-06-28T12:23:50.932734",
     "exception": false,
     "start_time": "2022-06-28T12:23:50.918894",
     "status": "completed"
    },
    "tags": []
   },
   "source": [
    "#### Part B\n",
    "\n",
    "Using the regression lines, what conclusions can you draw about the effects of chocolate and price on candy popularity?"
   ]
  },
  {
   "cell_type": "code",
   "execution_count": 20,
   "id": "810c34be",
   "metadata": {
    "execution": {
     "iopub.execute_input": "2022-06-28T12:23:50.963287Z",
     "iopub.status.busy": "2022-06-28T12:23:50.962488Z",
     "iopub.status.idle": "2022-06-28T12:23:50.967267Z",
     "shell.execute_reply": "2022-06-28T12:23:50.966495Z"
    },
    "papermill": {
     "duration": 0.022604,
     "end_time": "2022-06-28T12:23:50.969466",
     "exception": false,
     "start_time": "2022-06-28T12:23:50.946862",
     "status": "completed"
    },
    "tags": []
   },
   "outputs": [],
   "source": [
    "#step_6.b.hint()"
   ]
  },
  {
   "cell_type": "code",
   "execution_count": 21,
   "id": "c1810409",
   "metadata": {
    "execution": {
     "iopub.execute_input": "2022-06-28T12:23:51.000307Z",
     "iopub.status.busy": "2022-06-28T12:23:50.999503Z",
     "iopub.status.idle": "2022-06-28T12:23:51.008987Z",
     "shell.execute_reply": "2022-06-28T12:23:51.007779Z"
    },
    "papermill": {
     "duration": 0.027721,
     "end_time": "2022-06-28T12:23:51.011375",
     "exception": false,
     "start_time": "2022-06-28T12:23:50.983654",
     "status": "completed"
    },
    "tags": []
   },
   "outputs": [
    {
     "data": {
      "application/javascript": [
       "parent.postMessage({\"jupyterEvent\": \"custom.exercise_interaction\", \"data\": {\"interactionType\": 3, \"questionType\": 4, \"questionId\": \"6.2_ThinkColorReg\", \"learnToolsVersion\": \"0.3.4\", \"valueTowardsCompletion\": 0.0, \"failureMessage\": \"\", \"exceptionClass\": \"\", \"trace\": \"\", \"outcomeType\": 4}}, \"*\")"
      ],
      "text/plain": [
       "<IPython.core.display.Javascript object>"
      ]
     },
     "metadata": {},
     "output_type": "display_data"
    },
    {
     "data": {
      "text/markdown": [
       "<span style=\"color:#33cc99\">Solution:</span> We'll begin with the regression line for chocolate candies. Since this line has a slightly positive slope, we can say that more expensive chocolate candies tend to be more popular (than relatively cheaper chocolate candies).  Likewise, since the regression line for candies without chocolate has a negative slope, we can say that if candies don't contain chocolate, they tend to be more popular when they are cheaper.  One important note, however, is that the dataset is quite small -- so we shouldn't invest too much trust in these patterns!  To inspire more confidence in the results, we should add more candies to the dataset."
      ],
      "text/plain": [
       "Solution: We'll begin with the regression line for chocolate candies. Since this line has a slightly positive slope, we can say that more expensive chocolate candies tend to be more popular (than relatively cheaper chocolate candies).  Likewise, since the regression line for candies without chocolate has a negative slope, we can say that if candies don't contain chocolate, they tend to be more popular when they are cheaper.  One important note, however, is that the dataset is quite small -- so we shouldn't invest too much trust in these patterns!  To inspire more confidence in the results, we should add more candies to the dataset."
      ]
     },
     "metadata": {},
     "output_type": "display_data"
    }
   ],
   "source": [
    "# Check your answer (Run this code cell to receive credit!)\n",
    "step_6.b.solution()"
   ]
  },
  {
   "cell_type": "markdown",
   "id": "ef0822c4",
   "metadata": {
    "papermill": {
     "duration": 0.014447,
     "end_time": "2022-06-28T12:23:51.041542",
     "exception": false,
     "start_time": "2022-06-28T12:23:51.027095",
     "status": "completed"
    },
    "tags": []
   },
   "source": [
    "## Step 7: Everybody loves chocolate.\n",
    "\n",
    "#### Part A\n",
    "\n",
    "Create a categorical scatter plot to highlight the relationship between `'chocolate'` and `'winpercent'`.  Put `'chocolate'` on the (horizontal) x-axis, and `'winpercent'` on the (vertical) y-axis."
   ]
  },
  {
   "cell_type": "code",
   "execution_count": 22,
   "id": "70c026ed",
   "metadata": {
    "execution": {
     "iopub.execute_input": "2022-06-28T12:23:51.072875Z",
     "iopub.status.busy": "2022-06-28T12:23:51.072485Z",
     "iopub.status.idle": "2022-06-28T12:23:51.211061Z",
     "shell.execute_reply": "2022-06-28T12:23:51.209952Z"
    },
    "papermill": {
     "duration": 0.157232,
     "end_time": "2022-06-28T12:23:51.213351",
     "exception": false,
     "start_time": "2022-06-28T12:23:51.056119",
     "status": "completed"
    },
    "tags": []
   },
   "outputs": [
    {
     "data": {
      "application/javascript": [
       "parent.postMessage({\"jupyterEvent\": \"custom.exercise_interaction\", \"data\": {\"outcomeType\": 1, \"valueTowardsCompletion\": 0.3333333333333333, \"interactionType\": 1, \"questionType\": 2, \"questionId\": \"7.1_PlotSwarm\", \"learnToolsVersion\": \"0.3.4\", \"failureMessage\": \"\", \"exceptionClass\": \"\", \"trace\": \"\"}}, \"*\")"
      ],
      "text/plain": [
       "<IPython.core.display.Javascript object>"
      ]
     },
     "metadata": {},
     "output_type": "display_data"
    },
    {
     "data": {
      "text/markdown": [
       "<span style=\"color:#33cc33\">Correct</span>"
      ],
      "text/plain": [
       "Correct"
      ]
     },
     "metadata": {},
     "output_type": "display_data"
    },
    {
     "data": {
      "image/png": "[encoded data removed]",
      "text/plain": [
       "<Figure size 432x288 with 1 Axes>"
      ]
     },
     "metadata": {
      "needs_background": "light"
     },
     "output_type": "display_data"
    }
   ],
   "source": [
    "# Scatter plot showing the relationship between 'chocolate' and 'winpercent'\n",
    "sns.swarmplot(x=candy_data['chocolate'],y=candy_data['winpercent']) # Your code here\n",
    "\n",
    "# Check your answer\n",
    "step_7.a.check()"
   ]
  },
  {
   "cell_type": "code",
   "execution_count": 23,
   "id": "e287d0a9",
   "metadata": {
    "execution": {
     "iopub.execute_input": "2022-06-28T12:23:51.246972Z",
     "iopub.status.busy": "2022-06-28T12:23:51.246206Z",
     "iopub.status.idle": "2022-06-28T12:23:51.250992Z",
     "shell.execute_reply": "2022-06-28T12:23:51.250050Z"
    },
    "papermill": {
     "duration": 0.023952,
     "end_time": "2022-06-28T12:23:51.253248",
     "exception": false,
     "start_time": "2022-06-28T12:23:51.229296",
     "status": "completed"
    },
    "tags": []
   },
   "outputs": [],
   "source": [
    "# Lines below will give you a hint or solution code\n",
    "#step_7.a.hint()\n",
    "#step_7.a.solution_plot()"
   ]
  },
  {
   "cell_type": "markdown",
   "id": "d9dbcf00",
   "metadata": {
    "papermill": {
     "duration": 0.014995,
     "end_time": "2022-06-28T12:23:51.283639",
     "exception": false,
     "start_time": "2022-06-28T12:23:51.268644",
     "status": "completed"
    },
    "tags": []
   },
   "source": [
    "#### Part B\n",
    "\n",
    "You decide to dedicate a section of your report to the fact that chocolate candies tend to be more popular than candies without chocolate.  Which plot is more appropriate to tell this story: the plot from **Step 6**, or the plot from **Step 7**?"
   ]
  },
  {
   "cell_type": "code",
   "execution_count": 24,
   "id": "e826bd72",
   "metadata": {
    "execution": {
     "iopub.execute_input": "2022-06-28T12:23:51.316971Z",
     "iopub.status.busy": "2022-06-28T12:23:51.316319Z",
     "iopub.status.idle": "2022-06-28T12:23:51.321812Z",
     "shell.execute_reply": "2022-06-28T12:23:51.320770Z"
    },
    "papermill": {
     "duration": 0.025422,
     "end_time": "2022-06-28T12:23:51.324387",
     "exception": false,
     "start_time": "2022-06-28T12:23:51.298965",
     "status": "completed"
    },
    "tags": []
   },
   "outputs": [],
   "source": [
    "#step_7.b.hint()"
   ]
  },
  {
   "cell_type": "code",
   "execution_count": 25,
   "id": "27db13bc",
   "metadata": {
    "execution": {
     "iopub.execute_input": "2022-06-28T12:23:51.358320Z",
     "iopub.status.busy": "2022-06-28T12:23:51.357940Z",
     "iopub.status.idle": "2022-06-28T12:23:51.365764Z",
     "shell.execute_reply": "2022-06-28T12:23:51.364484Z"
    },
    "papermill": {
     "duration": 0.027691,
     "end_time": "2022-06-28T12:23:51.368106",
     "exception": false,
     "start_time": "2022-06-28T12:23:51.340415",
     "status": "completed"
    },
    "tags": []
   },
   "outputs": [
    {
     "data": {
      "application/javascript": [
       "parent.postMessage({\"jupyterEvent\": \"custom.exercise_interaction\", \"data\": {\"interactionType\": 3, \"questionType\": 4, \"questionId\": \"7.2_ThinkSwarm\", \"learnToolsVersion\": \"0.3.4\", \"valueTowardsCompletion\": 0.0, \"failureMessage\": \"\", \"exceptionClass\": \"\", \"trace\": \"\", \"outcomeType\": 4}}, \"*\")"
      ],
      "text/plain": [
       "<IPython.core.display.Javascript object>"
      ]
     },
     "metadata": {},
     "output_type": "display_data"
    },
    {
     "data": {
      "text/markdown": [
       "<span style=\"color:#33cc99\">Solution:</span> In this case, the categorical scatter plot from **Step 7** is the more appropriate plot. While both plots tell the desired story, the plot from **Step 6** conveys far more information that could distract from the main point."
      ],
      "text/plain": [
       "Solution: In this case, the categorical scatter plot from **Step 7** is the more appropriate plot. While both plots tell the desired story, the plot from **Step 6** conveys far more information that could distract from the main point."
      ]
     },
     "metadata": {},
     "output_type": "display_data"
    }
   ],
   "source": [
    "# Check your answer (Run this code cell to receive credit!)\n",
    "step_7.b.solution()"
   ]
  },
  {
   "cell_type": "markdown",
   "id": "144e5fb5",
   "metadata": {
    "papermill": {
     "duration": 0.015443,
     "end_time": "2022-06-28T12:23:51.399425",
     "exception": false,
     "start_time": "2022-06-28T12:23:51.383982",
     "status": "completed"
    },
    "tags": []
   },
   "source": [
    "## Keep going\n",
    "\n",
    "Explore **[histograms and density plots](https://www.kaggle.com/alexisbcook/distributions)**."
   ]
  },
  {
   "cell_type": "markdown",
   "id": "ed7145ee",
   "metadata": {
    "papermill": {
     "duration": 0.01535,
     "end_time": "2022-06-28T12:23:51.430466",
     "exception": false,
     "start_time": "2022-06-28T12:23:51.415116",
     "status": "completed"
    },
    "tags": []
   },
   "source": [
    "---\n",
    "\n",
    "\n",
    "\n",
    "\n",
    "*Have questions or comments? Visit the [course discussion forum](https://www.kaggle.com/learn/data-visualization/discussion) to chat with other learners.*"
   ]
  }
 ],
 "metadata": {
  "kernelspec": {
   "display_name": "Python 3",
   "language": "python",
   "name": "python3"
  },
  "language_info": {
   "codemirror_mode": {
    "name": "ipython",
    "version": 3
   },
   "file_extension": ".py",
   "mimetype": "text/x-python",
   "name": "python",
   "nbconvert_exporter": "python",
   "pygments_lexer": "ipython3",
   "version": "3.7.12"
  },
  "papermill": {
   "default_parameters": {},
   "duration": 15.617914,
   "end_time": "2022-06-28T12:23:52.169124",
   "environment_variables": {},
   "exception": null,
   "input_path": "__notebook__.ipynb",
   "output_path": "__notebook__.ipynb",
   "parameters": {},
   "start_time": "2022-06-28T12:23:36.551210",
   "version": "2.3.4"
  }
 },
 "nbformat": 4,
 "nbformat_minor": 5
}
